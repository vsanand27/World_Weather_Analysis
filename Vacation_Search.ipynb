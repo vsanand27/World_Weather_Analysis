{
 "cells": [
  {
   "cell_type": "code",
   "execution_count": 59,
   "metadata": {},
   "outputs": [],
   "source": [
    "# Import the dependencies.\n",
    "import pandas as pd\n",
    "import gmaps\n",
    "import requests\n",
    "# Import the API key.\n",
    "from config import g_key\n",
    "%matplotlib notebook"
   ]
  },
  {
   "cell_type": "markdown",
   "metadata": {},
   "source": [
    "# 1. Load Data"
   ]
  },
  {
   "cell_type": "code",
   "execution_count": 2,
   "metadata": {},
   "outputs": [
    {
     "data": {
      "text/html": [
       "<div>\n",
       "<style scoped>\n",
       "    .dataframe tbody tr th:only-of-type {\n",
       "        vertical-align: middle;\n",
       "    }\n",
       "\n",
       "    .dataframe tbody tr th {\n",
       "        vertical-align: top;\n",
       "    }\n",
       "\n",
       "    .dataframe thead th {\n",
       "        text-align: right;\n",
       "    }\n",
       "</style>\n",
       "<table border=\"1\" class=\"dataframe\">\n",
       "  <thead>\n",
       "    <tr style=\"text-align: right;\">\n",
       "      <th></th>\n",
       "      <th>City_ID</th>\n",
       "      <th>City</th>\n",
       "      <th>Lat</th>\n",
       "      <th>Lng</th>\n",
       "      <th>Max Temp</th>\n",
       "      <th>Humidity</th>\n",
       "      <th>Cloudiness</th>\n",
       "      <th>Wind Speed</th>\n",
       "      <th>Country</th>\n",
       "      <th>Date</th>\n",
       "      <th>Weather description</th>\n",
       "      <th>Rain inches(last 3 hrs)</th>\n",
       "      <th>Snow inches(last 3 hrs)</th>\n",
       "    </tr>\n",
       "  </thead>\n",
       "  <tbody>\n",
       "    <tr>\n",
       "      <th>0</th>\n",
       "      <td>0</td>\n",
       "      <td>Champasak</td>\n",
       "      <td>14.75</td>\n",
       "      <td>106.00</td>\n",
       "      <td>70.92</td>\n",
       "      <td>39</td>\n",
       "      <td>0</td>\n",
       "      <td>3.04</td>\n",
       "      <td>LA</td>\n",
       "      <td>2020-02-23 15:38:15</td>\n",
       "      <td>clear sky</td>\n",
       "      <td>0.0</td>\n",
       "      <td>0.0</td>\n",
       "    </tr>\n",
       "    <tr>\n",
       "      <th>1</th>\n",
       "      <td>1</td>\n",
       "      <td>Tessalit</td>\n",
       "      <td>20.20</td>\n",
       "      <td>1.01</td>\n",
       "      <td>92.82</td>\n",
       "      <td>7</td>\n",
       "      <td>0</td>\n",
       "      <td>9.04</td>\n",
       "      <td>ML</td>\n",
       "      <td>2020-02-23 15:38:15</td>\n",
       "      <td>clear sky</td>\n",
       "      <td>0.0</td>\n",
       "      <td>0.0</td>\n",
       "    </tr>\n",
       "    <tr>\n",
       "      <th>2</th>\n",
       "      <td>2</td>\n",
       "      <td>Saint-Philippe</td>\n",
       "      <td>-21.36</td>\n",
       "      <td>55.77</td>\n",
       "      <td>80.60</td>\n",
       "      <td>69</td>\n",
       "      <td>75</td>\n",
       "      <td>4.70</td>\n",
       "      <td>RE</td>\n",
       "      <td>2020-02-23 15:38:15</td>\n",
       "      <td>broken clouds</td>\n",
       "      <td>0.0</td>\n",
       "      <td>0.0</td>\n",
       "    </tr>\n",
       "    <tr>\n",
       "      <th>3</th>\n",
       "      <td>3</td>\n",
       "      <td>Ushuaia</td>\n",
       "      <td>-54.80</td>\n",
       "      <td>-68.30</td>\n",
       "      <td>50.00</td>\n",
       "      <td>76</td>\n",
       "      <td>75</td>\n",
       "      <td>4.76</td>\n",
       "      <td>AR</td>\n",
       "      <td>2020-02-23 15:36:57</td>\n",
       "      <td>drizzle</td>\n",
       "      <td>0.0</td>\n",
       "      <td>0.0</td>\n",
       "    </tr>\n",
       "    <tr>\n",
       "      <th>4</th>\n",
       "      <td>4</td>\n",
       "      <td>Luderitz</td>\n",
       "      <td>-26.65</td>\n",
       "      <td>15.16</td>\n",
       "      <td>66.22</td>\n",
       "      <td>79</td>\n",
       "      <td>0</td>\n",
       "      <td>22.62</td>\n",
       "      <td>NaN</td>\n",
       "      <td>2020-02-23 15:38:16</td>\n",
       "      <td>clear sky</td>\n",
       "      <td>0.0</td>\n",
       "      <td>0.0</td>\n",
       "    </tr>\n",
       "  </tbody>\n",
       "</table>\n",
       "</div>"
      ],
      "text/plain": [
       "   City_ID            City    Lat     Lng  Max Temp  Humidity  Cloudiness  \\\n",
       "0        0       Champasak  14.75  106.00     70.92        39           0   \n",
       "1        1        Tessalit  20.20    1.01     92.82         7           0   \n",
       "2        2  Saint-Philippe -21.36   55.77     80.60        69          75   \n",
       "3        3         Ushuaia -54.80  -68.30     50.00        76          75   \n",
       "4        4        Luderitz -26.65   15.16     66.22        79           0   \n",
       "\n",
       "   Wind Speed Country                 Date Weather description  \\\n",
       "0        3.04      LA  2020-02-23 15:38:15           clear sky   \n",
       "1        9.04      ML  2020-02-23 15:38:15           clear sky   \n",
       "2        4.70      RE  2020-02-23 15:38:15       broken clouds   \n",
       "3        4.76      AR  2020-02-23 15:36:57             drizzle   \n",
       "4       22.62     NaN  2020-02-23 15:38:16           clear sky   \n",
       "\n",
       "   Rain inches(last 3 hrs)  Snow inches(last 3 hrs)  \n",
       "0                      0.0                      0.0  \n",
       "1                      0.0                      0.0  \n",
       "2                      0.0                      0.0  \n",
       "3                      0.0                      0.0  \n",
       "4                      0.0                      0.0  "
      ]
     },
     "execution_count": 2,
     "metadata": {},
     "output_type": "execute_result"
    }
   ],
   "source": [
    "# Store the CSV you saved created in part one into a DataFrame.\n",
    "city_data_df = pd.read_csv(\"weather_data/WeatherPy_challenge.csv\")\n",
    "city_data_df.head()"
   ]
  },
  {
   "cell_type": "code",
   "execution_count": 3,
   "metadata": {},
   "outputs": [
    {
     "name": "stdout",
     "output_type": "stream",
     "text": [
      "<class 'pandas.core.frame.DataFrame'>\n",
      "RangeIndex: 550 entries, 0 to 549\n",
      "Data columns (total 13 columns):\n",
      " #   Column                   Non-Null Count  Dtype  \n",
      "---  ------                   --------------  -----  \n",
      " 0   City_ID                  550 non-null    int64  \n",
      " 1   City                     550 non-null    object \n",
      " 2   Lat                      550 non-null    float64\n",
      " 3   Lng                      550 non-null    float64\n",
      " 4   Max Temp                 550 non-null    float64\n",
      " 5   Humidity                 550 non-null    int64  \n",
      " 6   Cloudiness               550 non-null    int64  \n",
      " 7   Wind Speed               550 non-null    float64\n",
      " 8   Country                  547 non-null    object \n",
      " 9   Date                     550 non-null    object \n",
      " 10  Weather description      550 non-null    object \n",
      " 11  Rain inches(last 3 hrs)  550 non-null    float64\n",
      " 12  Snow inches(last 3 hrs)  550 non-null    float64\n",
      "dtypes: float64(6), int64(3), object(4)\n",
      "memory usage: 56.0+ KB\n"
     ]
    }
   ],
   "source": [
    "city_data_df.info()"
   ]
  },
  {
   "cell_type": "markdown",
   "metadata": {},
   "source": [
    "# 2.  Develop Dataframe Based on Criteria"
   ]
  },
  {
   "cell_type": "code",
   "execution_count": 4,
   "metadata": {},
   "outputs": [
    {
     "name": "stdout",
     "output_type": "stream",
     "text": [
      "What is the minimum temperature you would like for your trip? 25\n",
      "What is the maximum temperature you would like for your trip? 75\n",
      "Do you want it to be raining? (yes/no)?yes\n",
      "Do you want it to be snowing? (yes/no)?yes\n"
     ]
    }
   ],
   "source": [
    "#Ask the customer to add a minimum and maximum temperature value.\n",
    "min_temp = float(input(\"What is the minimum temperature you would like for your trip? \"))\n",
    "max_temp = float(input(\"What is the maximum temperature you would like for your trip? \"))\n",
    "# Ask the customer to add a rain and snow values\n",
    "Rain= input(\"Do you want it to be raining? (yes/no)?\")\n",
    "Snow= input(\"Do you want it to be snowing? (yes/no)?\")"
   ]
  },
  {
   "cell_type": "code",
   "execution_count": 5,
   "metadata": {},
   "outputs": [
    {
     "name": "stdout",
     "output_type": "stream",
     "text": [
      "<class 'pandas.core.frame.DataFrame'>\n",
      "Int64Index: 264 entries, 0 to 547\n",
      "Data columns (total 13 columns):\n",
      " #   Column                   Non-Null Count  Dtype  \n",
      "---  ------                   --------------  -----  \n",
      " 0   City_ID                  264 non-null    int64  \n",
      " 1   City                     264 non-null    object \n",
      " 2   Lat                      264 non-null    float64\n",
      " 3   Lng                      264 non-null    float64\n",
      " 4   Max Temp                 264 non-null    float64\n",
      " 5   Humidity                 264 non-null    int64  \n",
      " 6   Cloudiness               264 non-null    int64  \n",
      " 7   Wind Speed               264 non-null    float64\n",
      " 8   Country                  263 non-null    object \n",
      " 9   Date                     264 non-null    object \n",
      " 10  Weather description      264 non-null    object \n",
      " 11  Rain inches(last 3 hrs)  264 non-null    float64\n",
      " 12  Snow inches(last 3 hrs)  264 non-null    float64\n",
      "dtypes: float64(6), int64(3), object(4)\n",
      "memory usage: 28.9+ KB\n"
     ]
    }
   ],
   "source": [
    "# filter the dataset to find the cities\n",
    "preferred_cities_df=city_data_df.loc[(city_data_df[\"Max Temp\"] <= max_temp) & (city_data_df[\"Max Temp\"] >= min_temp)]\n",
    "\n",
    "if Rain==\"no\" and Snow==\"no\":\n",
    "    preferred_cities_df=preferred_cities_df.loc[(preferred_cities_df[\"Rain inches(last 3 hrs)\"]<=0) & (preferred_cities_df[\"Snow inches(last 3 hrs)\"]<=0)]                                                                          \n",
    "\n",
    "elif Rain==\"no\":\n",
    "    preferred_cities_df=preferred_cities_df.loc[(preferred_cities_df[\"Rain inches(last 3 hrs)\"]<=0),:]\n",
    "                                                 \n",
    "elif Snow==\"no\":\n",
    "    preferred_cities_df=preferred_cities_df.loc[(preferred_cities_df[\"Snow inches(last 3 hrs)\"]<=0),:]                                             \n",
    "\n",
    "else:\n",
    "    preferred_cities_df\n",
    "\n",
    "preferred_cities_df.info() "
   ]
  },
  {
   "cell_type": "code",
   "execution_count": 6,
   "metadata": {},
   "outputs": [],
   "source": [
    "# drop null rows\n",
    "preferred_cities_df=preferred_cities_df.dropna()"
   ]
  },
  {
   "cell_type": "code",
   "execution_count": 7,
   "metadata": {},
   "outputs": [
    {
     "data": {
      "text/plain": [
       "City_ID                    263\n",
       "City                       263\n",
       "Lat                        263\n",
       "Lng                        263\n",
       "Max Temp                   263\n",
       "Humidity                   263\n",
       "Cloudiness                 263\n",
       "Wind Speed                 263\n",
       "Country                    263\n",
       "Date                       263\n",
       "Weather description        263\n",
       "Rain inches(last 3 hrs)    263\n",
       "Snow inches(last 3 hrs)    263\n",
       "dtype: int64"
      ]
     },
     "execution_count": 7,
     "metadata": {},
     "output_type": "execute_result"
    }
   ],
   "source": [
    "preferred_cities_df.count()"
   ]
  },
  {
   "cell_type": "markdown",
   "metadata": {},
   "source": [
    "# 3.  Get Travel Data Information"
   ]
  },
  {
   "cell_type": "code",
   "execution_count": 8,
   "metadata": {},
   "outputs": [
    {
     "name": "stdout",
     "output_type": "stream",
     "text": [
      "rain count:Rain inches(last 3 hrs)    16\n",
      "dtype: int64,snow count:Snow inches(last 3 hrs)    9\n",
      "dtype: int64\n"
     ]
    }
   ],
   "source": [
    "# Print results rain and snow count\n",
    "rain_count=preferred_cities_df.loc[preferred_cities_df[\"Rain inches(last 3 hrs)\"]>0, [\"Rain inches(last 3 hrs)\"]].count()\n",
    "snow_count=preferred_cities_df.loc[preferred_cities_df[\"Snow inches(last 3 hrs)\"]>0, [\"Snow inches(last 3 hrs)\"]].count()\n",
    "print(f'rain count:{rain_count},snow count:{snow_count}')"
   ]
  },
  {
   "cell_type": "code",
   "execution_count": 9,
   "metadata": {},
   "outputs": [
    {
     "data": {
      "text/html": [
       "<div>\n",
       "<style scoped>\n",
       "    .dataframe tbody tr th:only-of-type {\n",
       "        vertical-align: middle;\n",
       "    }\n",
       "\n",
       "    .dataframe tbody tr th {\n",
       "        vertical-align: top;\n",
       "    }\n",
       "\n",
       "    .dataframe thead th {\n",
       "        text-align: right;\n",
       "    }\n",
       "</style>\n",
       "<table border=\"1\" class=\"dataframe\">\n",
       "  <thead>\n",
       "    <tr style=\"text-align: right;\">\n",
       "      <th></th>\n",
       "      <th>City</th>\n",
       "      <th>Country</th>\n",
       "      <th>Max Temp</th>\n",
       "      <th>Weather description</th>\n",
       "      <th>Lat</th>\n",
       "      <th>Lng</th>\n",
       "      <th>Hotel Name</th>\n",
       "    </tr>\n",
       "  </thead>\n",
       "  <tbody>\n",
       "    <tr>\n",
       "      <th>0</th>\n",
       "      <td>Champasak</td>\n",
       "      <td>LA</td>\n",
       "      <td>70.92</td>\n",
       "      <td>clear sky</td>\n",
       "      <td>14.75</td>\n",
       "      <td>106.00</td>\n",
       "      <td></td>\n",
       "    </tr>\n",
       "    <tr>\n",
       "      <th>3</th>\n",
       "      <td>Ushuaia</td>\n",
       "      <td>AR</td>\n",
       "      <td>50.00</td>\n",
       "      <td>drizzle</td>\n",
       "      <td>-54.80</td>\n",
       "      <td>-68.30</td>\n",
       "      <td></td>\n",
       "    </tr>\n",
       "    <tr>\n",
       "      <th>6</th>\n",
       "      <td>Bethel</td>\n",
       "      <td>US</td>\n",
       "      <td>48.99</td>\n",
       "      <td>clear sky</td>\n",
       "      <td>41.37</td>\n",
       "      <td>-73.41</td>\n",
       "      <td></td>\n",
       "    </tr>\n",
       "    <tr>\n",
       "      <th>8</th>\n",
       "      <td>Kapaa</td>\n",
       "      <td>US</td>\n",
       "      <td>66.20</td>\n",
       "      <td>clear sky</td>\n",
       "      <td>22.08</td>\n",
       "      <td>-159.32</td>\n",
       "      <td></td>\n",
       "    </tr>\n",
       "    <tr>\n",
       "      <th>9</th>\n",
       "      <td>Teguise</td>\n",
       "      <td>ES</td>\n",
       "      <td>73.40</td>\n",
       "      <td>haze</td>\n",
       "      <td>29.06</td>\n",
       "      <td>-13.56</td>\n",
       "      <td></td>\n",
       "    </tr>\n",
       "  </tbody>\n",
       "</table>\n",
       "</div>"
      ],
      "text/plain": [
       "        City Country  Max Temp Weather description    Lat     Lng Hotel Name\n",
       "0  Champasak      LA     70.92           clear sky  14.75  106.00           \n",
       "3    Ushuaia      AR     50.00             drizzle -54.80  -68.30           \n",
       "6     Bethel      US     48.99           clear sky  41.37  -73.41           \n",
       "8      Kapaa      US     66.20           clear sky  22.08 -159.32           \n",
       "9    Teguise      ES     73.40                haze  29.06  -13.56           "
      ]
     },
     "execution_count": 9,
     "metadata": {},
     "output_type": "execute_result"
    }
   ],
   "source": [
    "# Create DataFrame called hotel_df to store hotel names along with city, country, max temp, and coordinates.\n",
    "hotel_df = preferred_cities_df[[\"City\", \"Country\", \"Max Temp\",\"Weather description\", \"Lat\", \"Lng\"]].copy()\n",
    "hotel_df[\"Hotel Name\"] = \"\"\n",
    "hotel_df.head()"
   ]
  },
  {
   "cell_type": "code",
   "execution_count": 10,
   "metadata": {},
   "outputs": [],
   "source": [
    "# Set parameters to search for a hotel.\n",
    "params = {\n",
    "    \"radius\": 5000,\n",
    "    \"type\": \"lodging\",\n",
    "    \"key\": g_key\n",
    "}"
   ]
  },
  {
   "cell_type": "code",
   "execution_count": 11,
   "metadata": {},
   "outputs": [
    {
     "name": "stdout",
     "output_type": "stream",
     "text": [
      "Hotel not found... skipping.\n",
      "Hotel not found... skipping.\n",
      "Hotel not found... skipping.\n",
      "Hotel not found... skipping.\n",
      "Hotel not found... skipping.\n",
      "Hotel not found... skipping.\n",
      "Hotel not found... skipping.\n",
      "Hotel not found... skipping.\n",
      "Hotel not found... skipping.\n",
      "Hotel not found... skipping.\n",
      "Hotel not found... skipping.\n",
      "Hotel not found... skipping.\n",
      "Hotel not found... skipping.\n",
      "Hotel not found... skipping.\n",
      "Hotel not found... skipping.\n",
      "Hotel not found... skipping.\n",
      "Hotel not found... skipping.\n"
     ]
    }
   ],
   "source": [
    "# Iterate through the DataFrame.\n",
    "for index, row in hotel_df.iterrows():\n",
    "    # Get the latitude and longitude.\n",
    "    lat = row[\"Lat\"]\n",
    "    lng = row[\"Lng\"]\n",
    "\n",
    "    # Add the latitude and longitude to location key for the params dictionary.\n",
    "    params[\"location\"] = f\"{lat},{lng}\"\n",
    "\n",
    "    # Use the search term: \"lodging\" and our latitude and longitude.\n",
    "    base_url = \"https://maps.googleapis.com/maps/api/place/nearbysearch/json\"\n",
    "    # Make request and get the JSON data from the search.\n",
    "    hotels = requests.get(base_url, params=params).json()\n",
    "    # Grab the first hotel from the results and store the name.\n",
    "    try:\n",
    "        hotel_df.loc[index, \"Hotel Name\"] = hotels[\"results\"][0][\"name\"]\n",
    "    except (IndexError):\n",
    "        print(\"Hotel not found... skipping.\")"
   ]
  },
  {
   "cell_type": "code",
   "execution_count": 47,
   "metadata": {},
   "outputs": [
    {
     "data": {
      "text/html": [
       "<div>\n",
       "<style scoped>\n",
       "    .dataframe tbody tr th:only-of-type {\n",
       "        vertical-align: middle;\n",
       "    }\n",
       "\n",
       "    .dataframe tbody tr th {\n",
       "        vertical-align: top;\n",
       "    }\n",
       "\n",
       "    .dataframe thead th {\n",
       "        text-align: right;\n",
       "    }\n",
       "</style>\n",
       "<table border=\"1\" class=\"dataframe\">\n",
       "  <thead>\n",
       "    <tr style=\"text-align: right;\">\n",
       "      <th></th>\n",
       "      <th>City</th>\n",
       "      <th>Country</th>\n",
       "      <th>Max Temp</th>\n",
       "      <th>Weather description</th>\n",
       "      <th>Lat</th>\n",
       "      <th>Lng</th>\n",
       "      <th>Hotel Name</th>\n",
       "    </tr>\n",
       "  </thead>\n",
       "  <tbody>\n",
       "    <tr>\n",
       "      <th>0</th>\n",
       "      <td>Champasak</td>\n",
       "      <td>LA</td>\n",
       "      <td>70.92</td>\n",
       "      <td>clear sky</td>\n",
       "      <td>14.75</td>\n",
       "      <td>106.00</td>\n",
       "      <td></td>\n",
       "    </tr>\n",
       "    <tr>\n",
       "      <th>3</th>\n",
       "      <td>Ushuaia</td>\n",
       "      <td>AR</td>\n",
       "      <td>50.00</td>\n",
       "      <td>drizzle</td>\n",
       "      <td>-54.80</td>\n",
       "      <td>-68.30</td>\n",
       "      <td>Albatros Hotel</td>\n",
       "    </tr>\n",
       "    <tr>\n",
       "      <th>6</th>\n",
       "      <td>Bethel</td>\n",
       "      <td>US</td>\n",
       "      <td>48.99</td>\n",
       "      <td>clear sky</td>\n",
       "      <td>41.37</td>\n",
       "      <td>-73.41</td>\n",
       "      <td>Courtyard by Marriott Danbury</td>\n",
       "    </tr>\n",
       "    <tr>\n",
       "      <th>8</th>\n",
       "      <td>Kapaa</td>\n",
       "      <td>US</td>\n",
       "      <td>66.20</td>\n",
       "      <td>clear sky</td>\n",
       "      <td>22.08</td>\n",
       "      <td>-159.32</td>\n",
       "      <td>Sheraton Kauai Resort at Coconut Beach</td>\n",
       "    </tr>\n",
       "    <tr>\n",
       "      <th>9</th>\n",
       "      <td>Teguise</td>\n",
       "      <td>ES</td>\n",
       "      <td>73.40</td>\n",
       "      <td>haze</td>\n",
       "      <td>29.06</td>\n",
       "      <td>-13.56</td>\n",
       "      <td>B&amp;B La Casona de Nazaret</td>\n",
       "    </tr>\n",
       "  </tbody>\n",
       "</table>\n",
       "</div>"
      ],
      "text/plain": [
       "        City Country  Max Temp Weather description    Lat     Lng  \\\n",
       "0  Champasak      LA     70.92           clear sky  14.75  106.00   \n",
       "3    Ushuaia      AR     50.00             drizzle -54.80  -68.30   \n",
       "6     Bethel      US     48.99           clear sky  41.37  -73.41   \n",
       "8      Kapaa      US     66.20           clear sky  22.08 -159.32   \n",
       "9    Teguise      ES     73.40                haze  29.06  -13.56   \n",
       "\n",
       "                               Hotel Name  \n",
       "0                                          \n",
       "3                          Albatros Hotel  \n",
       "6           Courtyard by Marriott Danbury  \n",
       "8  Sheraton Kauai Resort at Coconut Beach  \n",
       "9                B&B La Casona de Nazaret  "
      ]
     },
     "execution_count": 47,
     "metadata": {},
     "output_type": "execute_result"
    }
   ],
   "source": [
    "hotel_df.head()"
   ]
  },
  {
   "cell_type": "code",
   "execution_count": 48,
   "metadata": {},
   "outputs": [
    {
     "name": "stdout",
     "output_type": "stream",
     "text": [
      "<class 'pandas.core.frame.DataFrame'>\n",
      "Int64Index: 263 entries, 0 to 547\n",
      "Data columns (total 7 columns):\n",
      " #   Column               Non-Null Count  Dtype  \n",
      "---  ------               --------------  -----  \n",
      " 0   City                 263 non-null    object \n",
      " 1   Country              263 non-null    object \n",
      " 2   Max Temp             263 non-null    float64\n",
      " 3   Weather description  263 non-null    object \n",
      " 4   Lat                  263 non-null    float64\n",
      " 5   Lng                  263 non-null    float64\n",
      " 6   Hotel Name           263 non-null    object \n",
      "dtypes: float64(3), object(4)\n",
      "memory usage: 26.4+ KB\n"
     ]
    }
   ],
   "source": [
    "hotel_df.info()"
   ]
  },
  {
   "cell_type": "code",
   "execution_count": null,
   "metadata": {},
   "outputs": [],
   "source": []
  },
  {
   "cell_type": "code",
   "execution_count": 54,
   "metadata": {},
   "outputs": [],
   "source": [
    "info_box_template = \"\"\"\n",
    "<dl>\n",
    "<dt>Hotel Name</dt><dd>{Hotel Name}</dd>\n",
    "<dt>City</dt><dd>{City}</dd>\n",
    "<dt>Country</dt><dd>{Country}</dd>\n",
    "<dt>Current weather description</dt><dd>{Weather description}</dd>\n",
    "</dl>\n",
    "\"\"\""
   ]
  },
  {
   "cell_type": "code",
   "execution_count": 55,
   "metadata": {},
   "outputs": [],
   "source": [
    "# Store the DataFrame Row.\n",
    "hotel_info = [info_box_template.format(**row) for index, row in hotel_df.iterrows()]"
   ]
  },
  {
   "cell_type": "code",
   "execution_count": 61,
   "metadata": {},
   "outputs": [
    {
     "data": {
      "application/vnd.jupyter.widget-view+json": {
       "model_id": "c6e699c31d5e4524944ba8908284cea1",
       "version_major": 2,
       "version_minor": 0
      },
      "text/plain": [
       "Figure(layout=FigureLayout(height='420px'))"
      ]
     },
     "metadata": {},
     "output_type": "display_data"
    }
   ],
   "source": [
    "# Add a heatmap of temperature for the vacation spots and marker for each city.\n",
    "locations = hotel_df[[\"Lat\", \"Lng\"]]\n",
    "max_temp = hotel_df[\"Max Temp\"]\n",
    "fig = gmaps.figure(center=(30.0, 31.0), zoom_level=1.5)\n",
    "heat_layer = gmaps.heatmap_layer(locations, weights=max_temp,\n",
    "             dissipating=False, max_intensity=100,point_radius=1)\n",
    "marker_layer = gmaps.marker_layer(locations, info_box_content=hotel_info)\n",
    "fig.add_layer(heat_layer)\n",
    "fig.add_layer(marker_layer)\n",
    "# Call the figure to plot the data.\n",
    "fig"
   ]
  },
  {
   "cell_type": "code",
   "execution_count": 62,
   "metadata": {},
   "outputs": [],
   "source": [
    "# Create the output file (CSV).\n",
    "output_data_file = \"weather_data/WeatherPy_vacation.csv\"\n",
    "# Export the City_Data into a CSV.\n",
    "hotel_df.to_csv(output_data_file, index_label=\"City_ID\")"
   ]
  },
  {
   "cell_type": "markdown",
   "metadata": {},
   "source": [
    "End of File"
   ]
  },
  {
   "cell_type": "code",
   "execution_count": null,
   "metadata": {},
   "outputs": [],
   "source": []
  }
 ],
 "metadata": {
  "kernelspec": {
   "display_name": "PythonData",
   "language": "python",
   "name": "pythondata"
  },
  "language_info": {
   "codemirror_mode": {
    "name": "ipython",
    "version": 3
   },
   "file_extension": ".py",
   "mimetype": "text/x-python",
   "name": "python",
   "nbconvert_exporter": "python",
   "pygments_lexer": "ipython3",
   "version": "3.7.6"
  }
 },
 "nbformat": 4,
 "nbformat_minor": 4
}
