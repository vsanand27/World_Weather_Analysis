{
 "cells": [
  {
   "cell_type": "code",
   "execution_count": 1,
   "metadata": {},
   "outputs": [],
   "source": [
    "import random\n",
    "# Numpy is a liabrary of numerical mathematics that can make arrays or matrices of numbers\n",
    "import numpy as np\n",
    "# import time it function to measure timing of fuctions running\n",
    "import timeit\n"
   ]
  },
  {
   "cell_type": "code",
   "execution_count": 2,
   "metadata": {},
   "outputs": [
    {
     "data": {
      "text/plain": [
       "28"
      ]
     },
     "execution_count": 2,
     "metadata": {},
     "output_type": "execute_result"
    }
   ],
   "source": [
    "# Returns integer between two numbers\n",
    "random.randint(-90,90)"
   ]
  },
  {
   "cell_type": "code",
   "execution_count": 3,
   "metadata": {},
   "outputs": [
    {
     "data": {
      "text/plain": [
       "0.7965874926199852"
      ]
     },
     "execution_count": 3,
     "metadata": {},
     "output_type": "execute_result"
    }
   ],
   "source": [
    "# Returns single floating point decimal between 0 and 1\n",
    "random.random()"
   ]
  },
  {
   "cell_type": "code",
   "execution_count": 4,
   "metadata": {},
   "outputs": [
    {
     "data": {
      "text/plain": [
       "[50.80039161066598,\n",
       " 37.38352080873219,\n",
       " -72.07394767307314,\n",
       " 2.1842848082874102,\n",
       " 86.6578888344705,\n",
       " 52.08414436089677,\n",
       " -81.37456992369627,\n",
       " -82.09162307638462,\n",
       " -27.195017032824236,\n",
       " 12.186091662617903]"
      ]
     },
     "execution_count": 4,
     "metadata": {},
     "output_type": "execute_result"
    }
   ],
   "source": [
    "# Algorithym to generate Latitudes between -90 and 90; generate 10 values\n",
    "x=1\n",
    "Latitude=[]\n",
    "while x<11:\n",
    "    random_Lat=random.randint(-90,90)+random.random()\n",
    "    Latitude.append(random_Lat)\n",
    "    x+=1\n",
    "Latitude\n"
   ]
  },
  {
   "cell_type": "code",
   "execution_count": 5,
   "metadata": {},
   "outputs": [
    {
     "data": {
      "text/plain": [
       "-54"
      ]
     },
     "execution_count": 5,
     "metadata": {},
     "output_type": "execute_result"
    }
   ],
   "source": [
    "# Randrange function (Upper limit, Upper Limit, step =2)\n",
    "## Steps by 1 in this case where difference between each number in sequence is 3 or 2\n",
    "# here below difference between number is in sequence of 3\n",
    "# default range is 1 if not mentioned\n",
    "# Gives you integer\n",
    "random.randrange(-90,90, step=3)\n"
   ]
  },
  {
   "cell_type": "code",
   "execution_count": 6,
   "metadata": {},
   "outputs": [
    {
     "data": {
      "text/plain": [
       "-66.08058618592311"
      ]
     },
     "execution_count": 6,
     "metadata": {},
     "output_type": "execute_result"
    }
   ],
   "source": [
    "# Uniform function - gives us floating number between two cells \n",
    "random.uniform (-90,90)\n"
   ]
  },
  {
   "cell_type": "code",
   "execution_count": 7,
   "metadata": {},
   "outputs": [
    {
     "data": {
      "text/plain": [
       "51.46778010303419"
      ]
     },
     "execution_count": 7,
     "metadata": {},
     "output_type": "execute_result"
    }
   ],
   "source": [
    "# Numpy has its own set of random generator function and random liabrary is not needed\n",
    "# Trailing zero after decimals is not needed\n",
    "np.random.uniform(-90.000,90.000)"
   ]
  },
  {
   "cell_type": "code",
   "execution_count": 8,
   "metadata": {},
   "outputs": [
    {
     "data": {
      "text/plain": [
       "-23.87406305657511"
      ]
     },
     "execution_count": 8,
     "metadata": {},
     "output_type": "execute_result"
    }
   ],
   "source": [
    "np.random.uniform(-90,90)"
   ]
  },
  {
   "cell_type": "code",
   "execution_count": 9,
   "metadata": {},
   "outputs": [
    {
     "data": {
      "text/plain": [
       "array([ 76.11874085,  18.70119865, -58.0030627 ,  36.41284514,\n",
       "       -84.20064362, -58.13955149, -77.22480045,  86.59305565,\n",
       "        66.20687198,   5.26969554,   9.76264132, -13.62862889,\n",
       "       -17.08203604, -75.16651019,  39.35274416,  42.18340334,\n",
       "        66.8618319 ,  69.98913276,   9.87326039,   5.93574586,\n",
       "        76.45834441,  24.27509657,  81.57140747,  82.56786225,\n",
       "       -49.41758113,  16.20588221,  34.91134156,  32.25363825,\n",
       "        55.57409474,  63.82810163, -11.49073624, -14.99919259,\n",
       "        13.84287037,  65.05838992,   7.66091583,  79.49653297,\n",
       "       -11.23155801,  65.53403088, -82.34332848, -35.56705062,\n",
       "       -45.40108127, -17.09489681,  31.18215992, -44.08573663,\n",
       "        -6.95003404,  23.63368608,  -0.68004223, -68.13568408,\n",
       "        12.2378764 ,  31.96180689])"
      ]
     },
     "execution_count": 9,
     "metadata": {},
     "output_type": "execute_result"
    }
   ],
   "source": [
    "# We can specify size of the array here in numpy\n",
    "np.random.uniform(-90.000,90.000,size=50)"
   ]
  },
  {
   "cell_type": "code",
   "execution_count": 12,
   "metadata": {},
   "outputs": [
    {
     "name": "stdout",
     "output_type": "stream",
     "text": [
      "13.4 µs ± 198 ns per loop (mean ± std. dev. of 7 runs, 100000 loops each)\n"
     ]
    }
   ],
   "source": [
    "# We can specify size of the array here in numpy\n",
    "%timeit np.random.uniform(-90.000,90.000,size=1500)"
   ]
  },
  {
   "cell_type": "markdown",
   "metadata": {},
   "source": [
    "The result of %timeit function show 13.4 microseconds - depends upon the RAM of your computer.  "
   ]
  },
  {
   "cell_type": "code",
   "execution_count": 15,
   "metadata": {},
   "outputs": [
    {
     "name": "stdout",
     "output_type": "stream",
     "text": [
      "1.59 ms ± 5.56 µs per loop (mean ± std. dev. of 7 runs, 1000 loops each)\n"
     ]
    }
   ],
   "source": [
    "def latitudes(size):\n",
    "    latitudes = []\n",
    "    x = 0\n",
    "    while x < (size):\n",
    "        random_lat = random.randint(-90, 90) + random.random()\n",
    "        latitudes.append(random_lat)\n",
    "        x += 1\n",
    "    return latitudes\n",
    "# Call the function with 1500. \n",
    "%timeit latitudes(1500)"
   ]
  },
  {
   "cell_type": "code",
   "execution_count": 23,
   "metadata": {},
   "outputs": [
    {
     "name": "stdout",
     "output_type": "stream",
     "text": [
      "1.6 ms ± 7.51 µs per loop (mean ± std. dev. of 7 runs, 1000 loops each)\n"
     ]
    }
   ],
   "source": [
    "def longitudes(size):\n",
    "    longitudes=[]\n",
    "    x=0\n",
    "    while x<(size):\n",
    "        rand_long=random.randint(-180,180)+random.random()\n",
    "        longitudes.append(rand_long)\n",
    "        x+=1\n",
    "    return longitudes\n",
    "%timeit longitudes(1500)"
   ]
  },
  {
   "cell_type": "code",
   "execution_count": null,
   "metadata": {},
   "outputs": [],
   "source": []
  }
 ],
 "metadata": {
  "kernelspec": {
   "display_name": "PythonData",
   "language": "python",
   "name": "pythondata"
  },
  "language_info": {
   "codemirror_mode": {
    "name": "ipython",
    "version": 3
   },
   "file_extension": ".py",
   "mimetype": "text/x-python",
   "name": "python",
   "nbconvert_exporter": "python",
   "pygments_lexer": "ipython3",
   "version": "3.7.6"
  }
 },
 "nbformat": 4,
 "nbformat_minor": 4
}
